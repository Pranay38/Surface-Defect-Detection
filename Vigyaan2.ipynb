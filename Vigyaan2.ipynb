{
 "cells": [
  {
   "cell_type": "code",
   "execution_count": 4,
   "id": "85b269fc",
   "metadata": {
    "scrolled": true
   },
   "outputs": [
    {
     "name": "stdout",
     "output_type": "stream",
     "text": [
      "Collecting pyserial\n",
      "  Downloading pyserial-3.5-py2.py3-none-any.whl (90 kB)\n",
      "\u001b[2K     \u001b[90m━━━━━━━━━━━━━━━━━━━━━━━━━━━━━━━━━━━━━━━━\u001b[0m \u001b[32m90.6/90.6 kB\u001b[0m \u001b[31m1.8 MB/s\u001b[0m eta \u001b[36m0:00:00\u001b[0ma \u001b[36m0:00:01\u001b[0m\n",
      "\u001b[?25hInstalling collected packages: pyserial\n",
      "Successfully installed pyserial-3.5\n"
     ]
    }
   ],
   "source": [
    "!pip install pyserial\n"
   ]
  },
  {
   "cell_type": "markdown",
   "id": "b7bcf7ed",
   "metadata": {},
   "source": [
    "# Loading the YOLO model to the Webcam and Integrating Arduino"
   ]
  },
  {
   "cell_type": "markdown",
   "id": "930b8c0a",
   "metadata": {},
   "source": [
    "import cv2\n",
    "import time\n",
    "import os\n",
    "import subprocess\n",
    "from IPython.display import clear_output\n",
    "from IPython.display import display\n",
    "\n",
    "\n",
    "def capture_images(output_folder, num_images=10):\n",
    "    # Create the output folder if it doesn't exist\n",
    "    if not os.path.exists(output_folder):\n",
    "        os.makedirs(output_folder)\n",
    "\n",
    "    # Initialize the webcam\n",
    "    cap = cv2.VideoCapture(0)\n",
    "\n",
    "    image_count = 0\n",
    "\n",
    "    try:\n",
    "        while image_count < num_images:\n",
    "            # Read a frame from the webcam\n",
    "            ret, frame = cap.read()\n",
    "\n",
    "            if not ret:\n",
    "                print(\"Failed to capture an image.\")\n",
    "                continue\n",
    "\n",
    "            # Define the file name\n",
    "            image_filename = os.path.join(output_folder, f\"image_{image_count + 1}.jpg\")\n",
    "\n",
    "            # Save the captured image\n",
    "            cv2.imwrite(image_filename, frame)\n",
    "\n",
    "            print(f\"Image {image_count + 1} saved as {image_filename}\")\n",
    "\n",
    "            image_count += 1\n",
    "            folder_path = 'captured_images'\n",
    "            \n",
    "            file_list = os.listdir(folder_path)\n",
    "\n",
    "            # Filter for image files (you can add more image extensions if needed)\n",
    "            image_extensions = ['.jpg']\n",
    "            image_files = [file for file in file_list if any(file.lower().endswith(ext) for ext in image_extensions)]\n",
    "\n",
    "            # Loop through the image files\n",
    "            for image_file in image_files:\n",
    "                image_path = os.path.join(folder_path, image_file)\n",
    "                command = f\"python /Users/pranayagrawal/Desktop/yolov5/detect.py --source {image_path} --weights /Users/pranayagrawal/Desktop/yolov5/runs/train/exp2/weights/best.pt\"\n",
    "\n",
    "            def ml():\n",
    "                try:\n",
    "                    subprocess.run(command, shell=True, check=True)\n",
    "                except subprocess.CalledProcessError as e:\n",
    "                    print(f\"Error: {e}\")\n",
    "            ml()\n",
    "\n",
    "            time.sleep(5)\n",
    "            \n",
    "            # Check for any key press to stop the code\n",
    "            clear_output(wait=True)  # Clear the output to avoid displaying any captured frames\n",
    "            display(\"Press 'q' to stop capturing\")\n",
    "            if cv2.waitKey(1) & 0xFF == ord('q'):\n",
    "                break\n",
    "\n",
    "    finally:\n",
    "        # Release the webcam and close all OpenCV windows\n",
    "        cap.release()\n",
    "        cv2.destroyAllWindows()\n",
    "        clear_output(wait=True)  # Clear the final message\n",
    "\n",
    "if __name__ == \"__main__\":\n",
    "    output_folder = \"captured_images\"\n",
    "    num_images = 100  # You can change this to the desired number of images to capture\n",
    "\n",
    "    capture_images(output_folder, num_images)\n"
   ]
  }
 ],
 "metadata": {
  "kernelspec": {
   "display_name": "Python 3 (ipykernel)",
   "language": "python",
   "name": "python3"
  },
  "language_info": {
   "codemirror_mode": {
    "name": "ipython",
    "version": 3
   },
   "file_extension": ".py",
   "mimetype": "text/x-python",
   "name": "python",
   "nbconvert_exporter": "python",
   "pygments_lexer": "ipython3",
   "version": "3.11.5"
  }
 },
 "nbformat": 4,
 "nbformat_minor": 5
}
